{
 "cells": [
  {
   "cell_type": "markdown",
   "id": "25d7736c-ba17-4aff-b6bb-66eba20fbf4e",
   "metadata": {},
   "source": [
    "# Lab | List, Dict and Set Comprehension"
   ]
  },
  {
   "cell_type": "markdown",
   "id": "7dd3cbde-675a-4b81-92c3-f728846dbe06",
   "metadata": {},
   "source": [
    "## Exercise: Managing Customer Orders Optimized with Comprehension"
   ]
  },
  {
   "cell_type": "markdown",
   "id": "5d500160-2fb7-4777-b5e4-09d45ebaf328",
   "metadata": {},
   "source": [
    "In the previous exercise, you developed a program to manage customer orders and inventory. Now, let's take it a step further and incorporate comprehension into your code.\n",
    "\n",
    "Follow the steps below to complete the exercise:\n",
    "\n",
    "1. Review your code from the previous exercise and identify areas where you can apply comprehension to simplify and streamline your code. \n",
    "\n",
    "    - *Hint: Apply it to initialize inventory, updating the inventory and printing the updated inventory.*\n",
    "    \n",
    "    - For example, in initializing the inventory, we could have:\n",
    "    \n",
    "        ```python\n",
    "        def initialize_inventory(products):\n",
    "            inventory = {product: int(input(f\"Enter the quantity of {product}s available: \")) for product in products}\n",
    "            return inventory\n",
    "\n",
    "        ```\n",
    "<br>\n",
    "    \n",
    "    \n",
    "2. Modify the function get_customer_orders so it prompts the user to enter the number of customer orders and gathers the product names using a loop and user input. Use comprehension.\n",
    "\n",
    "3. Add a new function to calculate the total price of the customer order. For each product in customer_orders, prompt the user to enter the price of that product. Use comprehension to calculate the total price. Note: assume that the user can only have 1 unit of each product.\n",
    "\n",
    "4. Modify the update_inventory function to remove the product from the inventory if its quantity becomes zero after fulfilling the customer orders. Use comprehension to filter out the products with a quantity of zero from the inventory.\n",
    "\n",
    "5. Print the total price of the customer order.\n",
    "\n",
    "Your code should produce output similar to the following:\n",
    "\n",
    "```python\n",
    "Enter the quantity of t-shirts available:  5\n",
    "Enter the quantity of mugs available:  4\n",
    "Enter the quantity of hats available:  3\n",
    "Enter the quantity of books available:  2\n",
    "Enter the quantity of keychains available:  1\n",
    "Enter the number of customer orders:  2\n",
    "Enter the name of a product that a customer wants to order:  hat\n",
    "Enter the name of a product that a customer wants to order:  keychain\n",
    "\n",
    "Order Statistics:\n",
    "Total Products Ordered: 2\n",
    "Percentage of Unique Products Ordered: 40.0\n",
    "\n",
    "Updated Inventory:\n",
    "t-shirt: 5\n",
    "mug: 4\n",
    "hat: 2\n",
    "book: 2\n",
    "Enter the price of keychain:  5\n",
    "Enter the price of hat:  10\n",
    "Total Price: 15.0\n",
    "\n",
    "```\n"
   ]
  },
  {
   "cell_type": "code",
   "execution_count": 13,
   "id": "6d6555b4",
   "metadata": {},
   "outputs": [],
   "source": [
    "productos=[\"camiseta\", \"taza\", \"sombrero\", \"libro\", \"llavero\"]\n",
    "inventory={}\n",
    "pedido_cliente=[]\n",
    "precios={}\n"
   ]
  },
  {
   "cell_type": "code",
   "execution_count": 14,
   "id": "b5163cbd",
   "metadata": {},
   "outputs": [],
   "source": [
    "def initialize_inventory(productos):\n",
    "    global inventory\n",
    "    inventory = {product: int(input(f\"Número de {product} disponibles: \")) for product in productos}\n",
    "    print(inventory)\n",
    "\n",
    "def get_customer_orders():\n",
    "    global pedido_cliente\n",
    "    num_pedidos = int(input(\"Ingrese el número de pedidos de clientes: \"))\n",
    "    pedido_cliente = [input(f\"Ingrese el nombre del producto para el pedido {i + 1}: \") for i in range(num_pedidos)]\n",
    "    return pedido_cliente\n",
    "\n",
    "def precio_total(pedido_cliente):\n",
    "    global precios\n",
    "    precios = {producto: float(input(f\"Ingrese el precio de {producto}: \")) for producto in pedido_cliente}\n",
    "    total = sum(precios.values())\n",
    "    print(\"El precio total del pedido es:\", total)\n",
    "    \n",
    "def update_inventory (productos):\n",
    "    [inventory.update({pedido: cantidad - 1}) for pedido, cantidad in inventory.items() if pedido in pedido_cliente]  \n",
    "    print (inventory)\n",
    "   \n",
    "    \n",
    "   "
   ]
  },
  {
   "cell_type": "code",
   "execution_count": 15,
   "id": "9b2f03ce",
   "metadata": {},
   "outputs": [
    {
     "name": "stdout",
     "output_type": "stream",
     "text": [
      "Número de camiseta disponibles: 1\n",
      "Número de taza disponibles: 1\n",
      "Número de sombrero disponibles: 1\n",
      "Número de libro disponibles: 1\n",
      "Número de llavero disponibles: 1\n",
      "{'camiseta': 1, 'taza': 1, 'sombrero': 1, 'libro': 1, 'llavero': 1}\n",
      "Ingrese el número de pedidos de clientes: 1\n",
      "Ingrese el nombre del producto para el pedido 1: taza\n",
      "Ingrese el precio de taza: 5\n",
      "El precio total del pedido es: 5.0\n"
     ]
    }
   ],
   "source": [
    "initialize_inventory(productos)\n",
    "   \n",
    "get_customer_orders()\n",
    "   \n",
    "\n",
    "precio_total(pedido_cliente)\n",
    "   \n",
    "update_inventory (productos)"
   ]
  }
 ],
 "metadata": {
  "kernelspec": {
   "display_name": "Python 3 (ipykernel)",
   "language": "python",
   "name": "python3"
  },
  "language_info": {
   "codemirror_mode": {
    "name": "ipython",
    "version": 3
   },
   "file_extension": ".py",
   "mimetype": "text/x-python",
   "name": "python",
   "nbconvert_exporter": "python",
   "pygments_lexer": "ipython3",
   "version": "3.11.5"
  }
 },
 "nbformat": 4,
 "nbformat_minor": 5
}
